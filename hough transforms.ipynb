{
 "cells": [
  {
   "cell_type": "code",
   "execution_count": 4,
   "id": "00d29f08",
   "metadata": {},
   "outputs": [],
   "source": [
    "import cv2\n",
    "import numpy as np"
   ]
  },
  {
   "cell_type": "code",
   "execution_count": 5,
   "id": "71fcf344",
   "metadata": {},
   "outputs": [],
   "source": [
    "img = cv2.imread(\"h_line.png\")"
   ]
  },
  {
   "cell_type": "code",
   "execution_count": 7,
   "id": "5008a055",
   "metadata": {},
   "outputs": [],
   "source": [
    "gray = cv2.cvtColor(img,cv2.COLOR_BGR2GRAY)"
   ]
  },
  {
   "cell_type": "code",
   "execution_count": 27,
   "id": "044af6de",
   "metadata": {},
   "outputs": [],
   "source": [
    "edges = cv2.Canny(gray,75,150)"
   ]
  },
  {
   "cell_type": "code",
   "execution_count": 40,
   "id": "a2429906",
   "metadata": {},
   "outputs": [],
   "source": [
    "lines = cv2.HoughLinesP(edges,1,np.pi/180,50,maxLineGap=900)"
   ]
  },
  {
   "cell_type": "code",
   "execution_count": 41,
   "id": "8dfc4d29",
   "metadata": {},
   "outputs": [],
   "source": [
    "for line in lines:\n",
    "    x1,y1,x2,y2 =line[0]\n",
    "    cv2.line(img,(x1,y1),(x2,y2),(0,255,0),2)"
   ]
  },
  {
   "cell_type": "code",
   "execution_count": 42,
   "id": "64a4801d",
   "metadata": {},
   "outputs": [],
   "source": [
    "#cv2.imshow(\"gray\",gray)\n",
    "#cv2.imshow(\"img\",edges)\n",
    "cv2.imshow(\"img\",img)\n",
    "cv2.waitKey(0)\n",
    "cv2.destroyAllWindows()"
   ]
  },
  {
   "cell_type": "code",
   "execution_count": null,
   "id": "a4c07771",
   "metadata": {},
   "outputs": [],
   "source": []
  }
 ],
 "metadata": {
  "kernelspec": {
   "display_name": "Python 3 (ipykernel)",
   "language": "python",
   "name": "python3"
  },
  "language_info": {
   "codemirror_mode": {
    "name": "ipython",
    "version": 3
   },
   "file_extension": ".py",
   "mimetype": "text/x-python",
   "name": "python",
   "nbconvert_exporter": "python",
   "pygments_lexer": "ipython3",
   "version": "3.9.18"
  }
 },
 "nbformat": 4,
 "nbformat_minor": 5
}
