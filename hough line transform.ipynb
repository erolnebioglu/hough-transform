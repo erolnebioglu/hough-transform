{
 "cells": [
  {
   "cell_type": "code",
   "execution_count": 10,
   "id": "19fd80a7",
   "metadata": {},
   "outputs": [],
   "source": [
    "import cv2\n",
    "import numpy as np"
   ]
  },
  {
   "cell_type": "code",
   "execution_count": 11,
   "id": "b401d64a",
   "metadata": {},
   "outputs": [],
   "source": [
    "vid = cv2.VideoCapture(\"line.mp4\")"
   ]
  },
  {
   "cell_type": "code",
   "execution_count": 12,
   "id": "eb88abec",
   "metadata": {},
   "outputs": [],
   "source": [
    "while True:\n",
    "    ret,frame = vid.read()\n",
    "    frame = cv2.resize(frame,(640,480))\n",
    "    hsv = cv2.cvtColor(frame,cv2.COLOR_BGR2HSV)# hsv range for (color)\n",
    "    \n",
    "    lowerYellow = np.array([18,94,140],np.uint8)\n",
    "    upperYellow = np.array([48,255,255],np.uint8)\n",
    "    mask = cv2.inRange(hsv,lowerYellow,upperYellow)\n",
    "    #cv2.imshow(\"mask\",mask)\n",
    "    \n",
    "    edges = cv2.Canny(mask,75,250)\n",
    "    \n",
    "    \n",
    "    lines = cv2.HoughLinesP(edges,1,np.pi/180,50,maxLineGap=50)\n",
    "    for line in lines:\n",
    "        (x1,y1,x2,y2) = line[0]\n",
    "        cv2.line(frame,(x1,y1),(x2,y2),(0,255,0),5)\n",
    "    \n",
    "    cv2.imshow(\"can\",frame)\n",
    "    \n",
    "    if cv2.waitKey(20) &0xFF == ord(\"q\"):\n",
    "        break\n",
    "\n",
    "\n",
    "    \n",
    "vid.release()\n",
    "cv2.destroyAllWindows()    "
   ]
  },
  {
   "cell_type": "code",
   "execution_count": null,
   "id": "f21fced3",
   "metadata": {},
   "outputs": [],
   "source": []
  },
  {
   "cell_type": "code",
   "execution_count": null,
   "id": "ef1cd398",
   "metadata": {},
   "outputs": [],
   "source": []
  },
  {
   "cell_type": "code",
   "execution_count": null,
   "id": "835f7de1",
   "metadata": {},
   "outputs": [],
   "source": []
  },
  {
   "cell_type": "code",
   "execution_count": null,
   "id": "97989371",
   "metadata": {},
   "outputs": [],
   "source": []
  }
 ],
 "metadata": {
  "kernelspec": {
   "display_name": "Python 3 (ipykernel)",
   "language": "python",
   "name": "python3"
  },
  "language_info": {
   "codemirror_mode": {
    "name": "ipython",
    "version": 3
   },
   "file_extension": ".py",
   "mimetype": "text/x-python",
   "name": "python",
   "nbconvert_exporter": "python",
   "pygments_lexer": "ipython3",
   "version": "3.9.18"
  }
 },
 "nbformat": 4,
 "nbformat_minor": 5
}
